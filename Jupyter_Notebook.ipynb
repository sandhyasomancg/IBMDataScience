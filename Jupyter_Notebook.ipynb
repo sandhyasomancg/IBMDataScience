{
 "cells": [
  {
   "cell_type": "markdown",
   "metadata": {},
   "source": [
    "<center>\n",
    "    <img src=\"https://s3-api.us-geo.objectstorage.softlayer.net/cf-courses-data/CognitiveClass/Logos/organization_logo/organization_logo.png\" width=\"300\" alt=\"cognitiveclass.ai logo\"  />\n",
    "</center>\n"
   ]
  },
  {
   "cell_type": "markdown",
   "metadata": {},
   "source": [
    "#### Add your code below following the instructions given in the course\n"
   ]
  },
  {
   "cell_type": "markdown",
   "metadata": {},
   "source": [
    "<h1> My Jupyter Notebook on IBM Watson Studio </h1>"
   ]
  },
  {
   "cell_type": "markdown",
   "metadata": {},
   "source": [
    "**Sandhya Soman**<BR>\n",
    "Assistant Professor\n",
    "JU"
   ]
  },
  {
   "cell_type": "markdown",
   "metadata": {},
   "source": [
    "*I am interested in data science because it gives meaning to raw data and converts it into meaningful insights that can help us to grow the business and recognize market trends*"
   ]
  },
  {
   "cell_type": "markdown",
   "metadata": {},
   "source": [
    "### In the cell below we will add two numbers."
   ]
  },
  {
   "cell_type": "code",
   "execution_count": 4,
   "metadata": {},
   "outputs": [
    {
     "name": "stdout",
     "output_type": "stream",
     "text": [
      "The sum of 10 and 20 is 30\n"
     ]
    }
   ],
   "source": [
    "a = 10\n",
    "b = 20\n",
    "c = a + b\n",
    "print(\"The sum of \"+str(a) + \" and \"+str(b)+\" is \"+str(c))"
   ]
  },
  {
   "cell_type": "markdown",
   "metadata": {},
   "source": [
    "#### Unordered list\n",
    "- Breakfast\n",
    "    * Idli\n",
    "    * Dosa\n",
    "    * Paratha\n",
    "- Lunch\n",
    "    * Biryani\n",
    "    * Noodles\n",
    "\n",
    "#### Ordered list\n",
    "1. Breakfast\n",
    "    1. Idli\n",
    "    2. Dosa\n",
    "    3. Paratha\n",
    "2. Lunch\n",
    "    1. Biryani\n",
    "    2. Noodles\n",
    "    \n",
    "<h3 align =\" center\"> Table </h3>\n",
    "\n",
    "|Name|Age|Marks|\n",
    "|----|---|-----|\n",
    "|Anusha|22|98%|\n",
    "|Baby|22|88%|\n",
    "|Cherian|22|78%|"
   ]
  },
  {
   "cell_type": "code",
   "execution_count": null,
   "metadata": {},
   "outputs": [],
   "source": []
  }
 ],
 "metadata": {
  "kernelspec": {
   "display_name": "Python 3 (ipykernel)",
   "language": "python",
   "name": "python3"
  },
  "language_info": {
   "codemirror_mode": {
    "name": "ipython",
    "version": 3
   },
   "file_extension": ".py",
   "mimetype": "text/x-python",
   "name": "python",
   "nbconvert_exporter": "python",
   "pygments_lexer": "ipython3",
   "version": "3.9.7"
  }
 },
 "nbformat": 4,
 "nbformat_minor": 4
}
